{
  "nbformat": 4,
  "nbformat_minor": 0,
  "metadata": {
    "colab": {
      "provenance": []
    },
    "kernelspec": {
      "name": "python3",
      "display_name": "Python 3"
    },
    "language_info": {
      "name": "python"
    }
  },
  "cells": [
    {
      "cell_type": "markdown",
      "source": [
        "# Quantum Circuit Challenge 2025 : Task 1"
      ],
      "metadata": {
        "id": "KY2rdzePyfh9"
      }
    },
    {
      "cell_type": "markdown",
      "source": [
        "Welcome to the **Quantum Circuit Challenge 2025!** 🌟 We are thrilled to have you embark on this journey to explore the fascinating world of quantum computing. Your first task is designed to ease you into the challenge while offering a glimpse into the quantum magic of correlation and control. Let’s dive in and unravel the mysteries of quantum gates and entanglement!"
      ],
      "metadata": {
        "id": "q6pKng39ycdI"
      }
    },
    {
      "cell_type": "markdown",
      "source": [
        "In a distant quantum realm, there exists a pair of particles, Alice and Bob, intricately linked through the enigmatic phenomenon of quantum correlation. These particles are not just neighbors—they share an unseen connection that defies classical intuition. When Alice's state is observed, Bob’s state seems to “know,” no matter how far apart they are.\n",
        "\n",
        "The **Quantum Council** of the realm, fascinated by this bond, has tasked you, a rising quantum scientist, to demonstrate this correlation in action. They provide you with a *controlled-X (CNOT)* gate, a powerful tool in the quantum world. Your task is to create a circuit where Alice and Bob's connection is brought to life. **But beware**—the council values elegance and simplicity, so a well-documented, neatly crafted circuit is key to earning their favor."
      ],
      "metadata": {
        "id": "PCPtlVk3zA7t"
      }
    },
    {
      "cell_type": "markdown",
      "source": [
        "Before starting the challenge install the required packages"
      ],
      "metadata": {
        "id": "4hqLPn_60hOe"
      }
    },
    {
      "cell_type": "code",
      "execution_count": null,
      "metadata": {
        "id": "ajWQV--nyVT6"
      },
      "outputs": [],
      "source": [
        "%pip install qiskit[visualization]==1.0.2\n",
        "%pip install qiskit_aer\n",
        "%pip install qiskit_ibm_runtime\n",
        "%pip install matplotlib\n",
        "%pip install pylatexenc\n",
        "%pip install qiskit-transpiler-service\n",
        "%pip install numpy"
      ]
    },
    {
      "cell_type": "code",
      "source": [
        "# imports\n",
        "import numpy as np\n",
        "from typing import List, Callable\n",
        "from scipy.optimize import minimize\n",
        "from scipy.optimize._optimize import OptimizeResult\n",
        "import matplotlib.pyplot as plt\n",
        "\n",
        "from qiskit import QuantumCircuit\n",
        "from qiskit.quantum_info import Statevector, Operator, SparsePauliOp\n",
        "from qiskit.primitives import StatevectorSampler, PrimitiveJob\n",
        "from qiskit.circuit.library import TwoLocal\n",
        "from qiskit.transpiler.preset_passmanagers import generate_preset_pass_manager\n",
        "from qiskit.visualization import plot_histogram\n",
        "from qiskit_ibm_runtime.fake_provider import FakeSherbrooke\n",
        "from qiskit_ibm_runtime import Session, EstimatorV2 as Estimator\n",
        "from qiskit_aer import AerSimulator\n",
        "\n",
        "## Import any other required packages"
      ],
      "metadata": {
        "id": "pThNur6Y0xVN"
      },
      "execution_count": null,
      "outputs": []
    },
    {
      "cell_type": "markdown",
      "source": [
        "## Sub-Task 0"
      ],
      "metadata": {
        "id": "LDJVRpiy1IC7"
      }
    },
    {
      "cell_type": "markdown",
      "source": [
        "### Your Challenge:\n",
        "**[5 Points]**\n",
        "\n",
        "\n",
        "Using Qiskit or any other quantum SDK, construct a quantum circuit that demonstrates the concept of quantum correlation using a controlled gate. Here's what you need to do:\n",
        "\n",
        "**Start with a Bell State:**\n",
        "\n",
        "Create a circuit with two qubits representing Alice and Bob.\n",
        "\n",
        "*   Use a Hadamard gate on Alice's qubit to create a superposition.\n",
        "*   Apply a CNOT gate with Alice's qubit as the control and Bob's as the target to entangle them.\n",
        "\n",
        "**Introduce a Measurement:**\n",
        "\n",
        "\n",
        "\n",
        "*   Measure both qubits to observe the correlation between Alice and Bob.\n",
        "*   Simulate the circuit multiple times to confirm the results.\n",
        "\n",
        "\n",
        "\n",
        "\n"
      ],
      "metadata": {
        "id": "zSOwasRL1Ni_"
      }
    },
    {
      "cell_type": "code",
      "source": [
        "# Create a new circuit with two qubits\n",
        "qc = QuantumCircuit(2)\n",
        "\n",
        "# Add a Hadamard gate to qubit 0\n",
        "\n",
        "  # Enter your code here\n",
        "\n",
        "# Perform a CNOT gate on qubit 1, controlled by qubit 0\n",
        "\n",
        "  # Enter your code here\n",
        "\n",
        "# Return a drawing of the circuit using MatPlotLib (\"mpl\"). This is the\n",
        "# last line of the cell, so the drawing appears in the cell output.\n",
        "qc.draw(\"mpl\")"
      ],
      "metadata": {
        "id": "4FW4x2Mr0zZa"
      },
      "execution_count": 1,
      "outputs": []
    },
    {
      "cell_type": "code",
      "source": [
        "# Write the code for measurement"
      ],
      "metadata": {
        "id": "vgXimm2kN64x"
      },
      "execution_count": null,
      "outputs": []
    },
    {
      "cell_type": "markdown",
      "source": [
        "##  Sub-Task 1"
      ],
      "metadata": {
        "id": "dQ7KAfCh4b7t"
      }
    },
    {
      "cell_type": "markdown",
      "source": [
        "**Congratulations on reaching the second milestone in this challenge!** 🌌 Now, we embark on a mission that blends quantum physics, problem-solving, and a bit of storytelling magic. Your task involves understanding and implementing *quantum teleportation*, one of the most iconic phenomena in quantum computing. This is where you become the courier of information, mastering entanglement to transmit quantum states flawlessly. Let's dive in!"
      ],
      "metadata": {
        "id": "3GGlg44R4SID"
      }
    },
    {
      "cell_type": "markdown",
      "source": [
        "In a distant future, humanity has colonized planets in far-flung galaxies, where classical communication lags have rendered instant messaging obsolete. Enter **Q-Couriers**, a secret society of quantum messengers who use entanglement to teleport quantum states between locations at the speed of thought."
      ],
      "metadata": {
        "id": "400POcEX4kmf"
      }
    },
    {
      "cell_type": "markdown",
      "source": [
        "A critical mission has arisen: a rogue agent has intercepted an important quantum state from the **Quantum Council of Andromeda** and tampered with its fidelity during a teleportation attempt. To recover and verify this state, you must rebuild the teleportation protocol while overcoming the rogue agent's sabotage."
      ],
      "metadata": {
        "id": "dF-PQGY94nnd"
      }
    },
    {
      "cell_type": "markdown",
      "source": [
        "###The Challenge:\n",
        "Recreate the quantum teleportation protocol using Qiskit (or any quantum SDK), ensuring the following:"
      ],
      "metadata": {
        "id": "YaQmUAy34wAg"
      }
    },
    {
      "cell_type": "markdown",
      "source": [
        "**Part 1: Setting Up Entanglement [15 points]**\n",
        "\n",
        "1. Begin with three qubits:\n",
        "  *   qₐ : Sender's qubit (initial state to teleport).\n",
        "  *   qᵦ : An auxiliary qubit.\n",
        "  *   qᵧ : Receiver's qubit.\n",
        "\n",
        "2. Entangle qᵦ and qᵧ."
      ],
      "metadata": {
        "id": "Z01NeWc940j0"
      }
    },
    {
      "cell_type": "code",
      "source": [
        "## Enter code for subtask 1"
      ],
      "metadata": {
        "id": "3CvLrTEN4aO_"
      },
      "execution_count": null,
      "outputs": []
    },
    {
      "cell_type": "markdown",
      "source": [
        "**Part - 2 [15 points]**\n",
        "\n",
        "1. Prepare qₐ in an arbitrary state ∣𝜓⟩ defined by:\n",
        "\n",
        "  cos($\\frac{θ}{2}$)|0>+$e^{iϕ}$sin($\\frac{θ}{2}$)|1>\n",
        "\n",
        "2. Apply the teleportation protocol\n",
        "\n",
        "  *   Add phase damping noise on qₐ.\n",
        "  *   Perform a Hadamard gate on qₐ.\n",
        "  *   Measure qₐ and qᵦ, and record the results.\n",
        "\n",
        "\n",
        "\n"
      ],
      "metadata": {
        "id": "oRucjMn86Ys8"
      }
    },
    {
      "cell_type": "code",
      "source": [
        "## Enter code for subtask 2"
      ],
      "metadata": {
        "id": "1vH8mtpp8ggB"
      },
      "execution_count": null,
      "outputs": []
    },
    {
      "cell_type": "markdown",
      "source": [
        "**Part 3: Correcting for Errors [Optional : No Bonus Points]**\n",
        "\n",
        "1. Simulate an error channel:\n",
        "\n",
        "  *   Introduce a depolarizing noise on qᵧ after the Bell state creation.\n",
        "  *   Use Qiskit's noise model to simulate this corruption.\n",
        "\n",
        "\n",
        "2. Using the classical results from the measurements of\n",
        "𝑞ₐ and 𝑞ᵦ, apply the appropriate corrections (Pauli\n",
        "𝑋 and/or Z gates) to 𝑞ᵧ.\n"
      ],
      "metadata": {
        "id": "_G3vOwRP8hf0"
      }
    },
    {
      "cell_type": "code",
      "source": [
        "## Enter code for subtask 3"
      ],
      "metadata": {
        "id": "0Ou_hqnU81MC"
      },
      "execution_count": null,
      "outputs": []
    },
    {
      "cell_type": "markdown",
      "source": [
        "**Part 4: Verification [5 points]**\n",
        "\n",
        "\n",
        "1. Compare the final state of\n",
        "𝑞ᵧ with the original state ∣𝜓⟩\n",
        "  *   Visualize the Bloch sphere representation of\n",
        "𝑞ₐ​(original state) and 𝑞ᵧ (teleported state).\n",
        "\n"
      ],
      "metadata": {
        "id": "RF2raEQz9Rde"
      }
    },
    {
      "cell_type": "code",
      "source": [
        "## Enter code for subtask 4"
      ],
      "metadata": {
        "id": "f49R-d0--RzF"
      },
      "execution_count": null,
      "outputs": []
    },
    {
      "cell_type": "markdown",
      "source": [
        "### Bonus Points\n",
        "\n",
        "**[5 Points]**\n",
        "\n",
        "Perform transpilation and show the transpiled circuit for each sub-task"
      ],
      "metadata": {
        "id": "XP3zlD8i-Ttc"
      }
    },
    {
      "cell_type": "code",
      "source": [],
      "metadata": {
        "id": "oVpY8J7K-jwo"
      },
      "execution_count": null,
      "outputs": []
    },
    {
      "cell_type": "markdown",
      "source": [
        "## Resources\n",
        "\n",
        "1. [IBM Quantum Documentation](https://docs.quantum.ibm.com/)\n",
        "2. [Coding with Qiskit 1.0 Series](https://youtube.com/playlist?list=PLOFEBzvs-VvrgHZt3exM_NNiNKtZlHvZi&si=CTwatqhFWd2hRXbq)\n",
        "3. [IBM Quantum Challenge 2024 solutions](https://github.com/qiskit-community/ibm-quantum-challenge-2024/tree/main/solutions)"
      ],
      "metadata": {
        "id": "juxgMpWEONyV"
      }
    }
  ]
}